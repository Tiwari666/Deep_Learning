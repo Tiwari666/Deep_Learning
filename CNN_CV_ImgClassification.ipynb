{
  "cells": [
    {
      "cell_type": "markdown",
      "metadata": {
        "id": "view-in-github",
        "colab_type": "text"
      },
      "source": [
        "<a href=\"https://colab.research.google.com/github/Tiwari666/Deep_Learning/blob/main/CNN_CV_ImgClassification.ipynb\" target=\"_parent\"><img src=\"https://colab.research.google.com/assets/colab-badge.svg\" alt=\"Open In Colab\"/></a>"
      ]
    },
    {
      "cell_type": "code",
      "execution_count": null,
      "metadata": {
        "id": "txlRzw9H2bcm"
      },
      "outputs": [],
      "source": [
        "import tensorflow as tf\n",
        "from keras.preprocessing.image import ImageDataGenerator"
      ]
    },
    {
      "cell_type": "code",
      "execution_count": null,
      "metadata": {
        "colab": {
          "base_uri": "https://localhost:8080/",
          "height": 36
        },
        "id": "cfOCr1-n6sjM",
        "outputId": "e151df93-6185-4895-cac2-1a3b5f0cee95"
      },
      "outputs": [
        {
          "output_type": "execute_result",
          "data": {
            "text/plain": [
              "'2.15.0'"
            ],
            "application/vnd.google.colaboratory.intrinsic+json": {
              "type": "string"
            }
          },
          "metadata": {},
          "execution_count": 3
        }
      ],
      "source": [
        "tf.__version__"
      ]
    },
    {
      "cell_type": "code",
      "execution_count": null,
      "metadata": {
        "colab": {
          "base_uri": "https://localhost:8080/"
        },
        "id": "gMx0nma27COj",
        "outputId": "8a9e2a4d-b20f-4391-d5dc-0eae48a6672e"
      },
      "outputs": [
        {
          "output_type": "stream",
          "name": "stdout",
          "text": [
            "Mounted at /content/gdrive\n"
          ]
        }
      ],
      "source": [
        "from google.colab import drive\n",
        "drive.mount('/content/gdrive')"
      ]
    },
    {
      "cell_type": "markdown",
      "metadata": {
        "id": "PlLt6Nic9tXD"
      },
      "source": [
        "#**Part 1 - Data Preprocessing**"
      ]
    },
    {
      "cell_type": "markdown",
      "metadata": {
        "id": "794suBvh9zeL"
      },
      "source": [
        "#**Preprocessing the Training set**"
      ]
    },
    {
      "cell_type": "code",
      "execution_count": null,
      "metadata": {
        "colab": {
          "base_uri": "https://localhost:8080/"
        },
        "id": "x_E_5L4M91dJ",
        "outputId": "3422f87f-08a5-4b1f-97ca-c2fbde886c3c"
      },
      "outputs": [
        {
          "output_type": "stream",
          "name": "stdout",
          "text": [
            "Found 8000 images belonging to 2 classes.\n"
          ]
        }
      ],
      "source": [
        "train_datagen = ImageDataGenerator(rescale = 1./255,\n",
        "                                   shear_range = 0.2,\n",
        "                                   zoom_range = 0.2,\n",
        "                                   horizontal_flip = True)\n",
        "training_set = train_datagen.flow_from_directory('/content/gdrive/MyDrive/CNNdataset/training_set',\n",
        "                                                 target_size = (64, 64), # (499,375)\n",
        "                                                 batch_size = 32,\n",
        "                                                 class_mode = 'binary')"
      ]
    },
    {
      "cell_type": "markdown",
      "metadata": {
        "id": "XSbkrjAZAPyw"
      },
      "source": [
        "#**Preprocessing the Test set**"
      ]
    },
    {
      "cell_type": "code",
      "execution_count": null,
      "metadata": {
        "colab": {
          "base_uri": "https://localhost:8080/"
        },
        "id": "dzoj0HTJARkZ",
        "outputId": "3246c937-3dd7-4c4e-dbfa-32241fab5b24"
      },
      "outputs": [
        {
          "output_type": "stream",
          "name": "stdout",
          "text": [
            "Found 2000 images belonging to 2 classes.\n"
          ]
        }
      ],
      "source": [
        "test_datagen = ImageDataGenerator(rescale = 1./255)\n",
        "test_set = test_datagen.flow_from_directory('/content/gdrive/MyDrive/CNNdataset/test_set',\n",
        "                                            target_size = (64, 64),\n",
        "                                            batch_size = 32,\n",
        "                                            class_mode = 'binary')"
      ]
    },
    {
      "cell_type": "markdown",
      "metadata": {
        "id": "bZkPaa-QEzqI"
      },
      "source": [
        "#**Part 2 - Building the CNN**"
      ]
    },
    {
      "cell_type": "markdown",
      "metadata": {
        "id": "FRQ8ad6qE1oR"
      },
      "source": [
        "#**Initialising the CNN**"
      ]
    },
    {
      "cell_type": "code",
      "execution_count": null,
      "metadata": {
        "id": "HH5K-JjfEuge"
      },
      "outputs": [],
      "source": [
        "cnn = tf.keras.models.Sequential()"
      ]
    },
    {
      "cell_type": "markdown",
      "metadata": {
        "id": "vW4X2vjyFEzm"
      },
      "source": [
        "#**Step 1 - Convolution**"
      ]
    },
    {
      "cell_type": "code",
      "execution_count": null,
      "metadata": {
        "id": "cCH7dQZgFCQh"
      },
      "outputs": [],
      "source": [
        "cnn.add(tf.keras.layers.Conv2D(filters=32, kernel_size=3, activation='relu', input_shape=[64, 64, 3]))"
      ]
    },
    {
      "cell_type": "markdown",
      "metadata": {
        "id": "qeu2M7C8Fhkw"
      },
      "source": [
        "#**Step 2 - Pooling**"
      ]
    },
    {
      "cell_type": "code",
      "execution_count": null,
      "metadata": {
        "id": "353s1LGLFe7F"
      },
      "outputs": [],
      "source": [
        "cnn.add(tf.keras.layers.MaxPool2D(pool_size=2, strides=2))"
      ]
    },
    {
      "cell_type": "markdown",
      "metadata": {
        "id": "xlSkMNqZFtX_"
      },
      "source": [
        "#**Adding a second convolutional layer**"
      ]
    },
    {
      "cell_type": "code",
      "execution_count": null,
      "metadata": {
        "id": "QTESBe6rFpoN"
      },
      "outputs": [],
      "source": [
        "cnn.add(tf.keras.layers.Conv2D(filters=32, kernel_size=3, activation='relu'))\n",
        "cnn.add(tf.keras.layers.MaxPool2D(pool_size=2, strides=2))"
      ]
    },
    {
      "cell_type": "markdown",
      "metadata": {
        "id": "j5tO5EHQF42I"
      },
      "source": [
        "#**Step 3 - Flattening**"
      ]
    },
    {
      "cell_type": "code",
      "execution_count": null,
      "metadata": {
        "id": "v2t1fI_RF2Pk"
      },
      "outputs": [],
      "source": [
        "cnn.add(tf.keras.layers.Flatten())"
      ]
    },
    {
      "cell_type": "markdown",
      "metadata": {
        "id": "tS6w68l2GKTt"
      },
      "source": [
        "#**Step 4 - Full Connection**"
      ]
    },
    {
      "cell_type": "code",
      "execution_count": null,
      "metadata": {
        "id": "uquKCo9FF_Zd"
      },
      "outputs": [],
      "source": [
        "cnn.add(tf.keras.layers.Dense(units=128, activation='relu'))"
      ]
    },
    {
      "cell_type": "markdown",
      "metadata": {
        "id": "eUxhpMxWGTFU"
      },
      "source": [
        "#**Step 5 - Output Layer**"
      ]
    },
    {
      "cell_type": "code",
      "execution_count": null,
      "metadata": {
        "id": "QYBDRoKTGOxV"
      },
      "outputs": [],
      "source": [
        "cnn.add(tf.keras.layers.Dense(units=1, activation='sigmoid'))"
      ]
    },
    {
      "cell_type": "markdown",
      "metadata": {
        "id": "3suyGCQAGa11"
      },
      "source": [
        "#**Part 3 - Training the CNN**"
      ]
    },
    {
      "cell_type": "markdown",
      "metadata": {
        "id": "liwxjJLWGdWP"
      },
      "source": [
        "#**Compiling the CNN**"
      ]
    },
    {
      "cell_type": "code",
      "execution_count": null,
      "metadata": {
        "id": "JzaIQa8xGX_W"
      },
      "outputs": [],
      "source": [
        "cnn.compile(optimizer = 'adam', loss = 'binary_crossentropy', metrics = ['accuracy'])"
      ]
    },
    {
      "cell_type": "markdown",
      "metadata": {
        "id": "TQtD7_AqGlsw"
      },
      "source": [
        "#**Training the CNN on the Training set and evaluating it on the Test set**"
      ]
    },
    {
      "cell_type": "code",
      "execution_count": null,
      "metadata": {
        "colab": {
          "base_uri": "https://localhost:8080/"
        },
        "id": "6kAkku1mGisW",
        "outputId": "55157017-e7e7-43db-b032-7d440e806579"
      },
      "outputs": [
        {
          "output_type": "stream",
          "name": "stdout",
          "text": [
            "Epoch 1/25\n",
            "250/250 [==============================] - 1388s 6s/step - loss: 0.6851 - accuracy: 0.5584 - val_loss: 0.6654 - val_accuracy: 0.6145\n",
            "Epoch 2/25\n",
            "250/250 [==============================] - 50s 200ms/step - loss: 0.6289 - accuracy: 0.6515 - val_loss: 0.6209 - val_accuracy: 0.6455\n",
            "Epoch 3/25\n",
            "250/250 [==============================] - 49s 195ms/step - loss: 0.5769 - accuracy: 0.6901 - val_loss: 0.5932 - val_accuracy: 0.6955\n",
            "Epoch 4/25\n",
            "250/250 [==============================] - 48s 190ms/step - loss: 0.5398 - accuracy: 0.7234 - val_loss: 0.5272 - val_accuracy: 0.7435\n",
            "Epoch 5/25\n",
            "250/250 [==============================] - 49s 195ms/step - loss: 0.5131 - accuracy: 0.7437 - val_loss: 0.5009 - val_accuracy: 0.7565\n",
            "Epoch 6/25\n",
            "250/250 [==============================] - 49s 196ms/step - loss: 0.4922 - accuracy: 0.7533 - val_loss: 0.4965 - val_accuracy: 0.7655\n",
            "Epoch 7/25\n",
            "250/250 [==============================] - 51s 205ms/step - loss: 0.4649 - accuracy: 0.7782 - val_loss: 0.4927 - val_accuracy: 0.7670\n",
            "Epoch 8/25\n",
            "250/250 [==============================] - 51s 206ms/step - loss: 0.4531 - accuracy: 0.7925 - val_loss: 0.4866 - val_accuracy: 0.7690\n",
            "Epoch 9/25\n",
            "250/250 [==============================] - 51s 204ms/step - loss: 0.4454 - accuracy: 0.7901 - val_loss: 0.4786 - val_accuracy: 0.7720\n",
            "Epoch 10/25\n",
            "250/250 [==============================] - 48s 192ms/step - loss: 0.4259 - accuracy: 0.8030 - val_loss: 0.5007 - val_accuracy: 0.7730\n",
            "Epoch 11/25\n",
            "250/250 [==============================] - 49s 195ms/step - loss: 0.4098 - accuracy: 0.8104 - val_loss: 0.4807 - val_accuracy: 0.7715\n",
            "Epoch 12/25\n",
            "250/250 [==============================] - 49s 195ms/step - loss: 0.3960 - accuracy: 0.8163 - val_loss: 0.4942 - val_accuracy: 0.7870\n",
            "Epoch 13/25\n",
            "250/250 [==============================] - 49s 197ms/step - loss: 0.3807 - accuracy: 0.8298 - val_loss: 0.4812 - val_accuracy: 0.7875\n",
            "Epoch 14/25\n",
            "250/250 [==============================] - 48s 191ms/step - loss: 0.3738 - accuracy: 0.8332 - val_loss: 0.4624 - val_accuracy: 0.7980\n",
            "Epoch 15/25\n",
            "250/250 [==============================] - 48s 193ms/step - loss: 0.3586 - accuracy: 0.8385 - val_loss: 0.5076 - val_accuracy: 0.7860\n",
            "Epoch 16/25\n",
            "250/250 [==============================] - 48s 192ms/step - loss: 0.3448 - accuracy: 0.8471 - val_loss: 0.4701 - val_accuracy: 0.8005\n",
            "Epoch 17/25\n",
            "250/250 [==============================] - 48s 192ms/step - loss: 0.3262 - accuracy: 0.8561 - val_loss: 0.4999 - val_accuracy: 0.7890\n",
            "Epoch 18/25\n",
            "250/250 [==============================] - 49s 195ms/step - loss: 0.3219 - accuracy: 0.8610 - val_loss: 0.5779 - val_accuracy: 0.7685\n",
            "Epoch 19/25\n",
            "250/250 [==============================] - 48s 193ms/step - loss: 0.3082 - accuracy: 0.8660 - val_loss: 0.4862 - val_accuracy: 0.7975\n",
            "Epoch 20/25\n",
            "250/250 [==============================] - 49s 194ms/step - loss: 0.2893 - accuracy: 0.8775 - val_loss: 0.5352 - val_accuracy: 0.7945\n",
            "Epoch 21/25\n",
            "250/250 [==============================] - 49s 195ms/step - loss: 0.2809 - accuracy: 0.8801 - val_loss: 0.5309 - val_accuracy: 0.7925\n",
            "Epoch 22/25\n",
            "250/250 [==============================] - 49s 194ms/step - loss: 0.2576 - accuracy: 0.8915 - val_loss: 0.5406 - val_accuracy: 0.7900\n",
            "Epoch 23/25\n",
            "250/250 [==============================] - 49s 195ms/step - loss: 0.2569 - accuracy: 0.8932 - val_loss: 0.5545 - val_accuracy: 0.7860\n",
            "Epoch 24/25\n",
            "250/250 [==============================] - 52s 208ms/step - loss: 0.2397 - accuracy: 0.9066 - val_loss: 0.5832 - val_accuracy: 0.7880\n",
            "Epoch 25/25\n",
            "250/250 [==============================] - 49s 196ms/step - loss: 0.2231 - accuracy: 0.9090 - val_loss: 0.5669 - val_accuracy: 0.7925\n"
          ]
        },
        {
          "output_type": "execute_result",
          "data": {
            "text/plain": [
              "<keras.src.callbacks.History at 0x787c65f22e00>"
            ]
          },
          "metadata": {},
          "execution_count": 19
        }
      ],
      "source": [
        "cnn.fit(x = training_set, validation_data = test_set, epochs = 25)"
      ]
    },
    {
      "cell_type": "markdown",
      "source": [
        "#**Part 4 - Making a single prediction**"
      ],
      "metadata": {
        "id": "6szkpEXMWqSt"
      }
    },
    {
      "cell_type": "code",
      "source": [
        "import numpy as np\n",
        "from keras.preprocessing import image\n",
        "test_image = image.load_img('/content/gdrive/MyDrive/CNNdataset/training_set/cats/cat.1002.jpg', target_size = (64, 64))\n",
        "test_image = image.img_to_array(test_image)\n",
        "test_image = np.expand_dims(test_image, axis = 0)\n",
        "result = cnn.predict(test_image)\n",
        "training_set.class_indices\n",
        "if result[0][0] == 1:\n",
        "  prediction = 'dog'\n",
        "else:\n",
        "  prediction = 'cat'"
      ],
      "metadata": {
        "colab": {
          "base_uri": "https://localhost:8080/"
        },
        "id": "OgwuYkH-WsgE",
        "outputId": "ba845cfe-07de-4a25-dff5-467bf71a87ff"
      },
      "execution_count": null,
      "outputs": [
        {
          "output_type": "stream",
          "name": "stdout",
          "text": [
            "1/1 [==============================] - 0s 17ms/step\n"
          ]
        }
      ]
    },
    {
      "cell_type": "code",
      "source": [
        "print(prediction)"
      ],
      "metadata": {
        "colab": {
          "base_uri": "https://localhost:8080/"
        },
        "id": "vCQZdyZPX5LT",
        "outputId": "2e907b9e-4a8f-49f0-eee5-07851960fc66"
      },
      "execution_count": null,
      "outputs": [
        {
          "output_type": "stream",
          "name": "stdout",
          "text": [
            "cat\n"
          ]
        }
      ]
    }
  ],
  "metadata": {
    "accelerator": "GPU",
    "colab": {
      "provenance": [],
      "gpuType": "T4",
      "include_colab_link": true
    },
    "kernelspec": {
      "display_name": "Python 3",
      "name": "python3"
    },
    "language_info": {
      "name": "python"
    }
  },
  "nbformat": 4,
  "nbformat_minor": 0
}